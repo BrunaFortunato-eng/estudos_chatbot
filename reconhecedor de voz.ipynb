{
 "cells": [
  {
   "cell_type": "markdown",
   "metadata": {},
   "source": [
    "pacotes instalados   \n",
    "pip install SpeechRecognition   \n",
    "sudo apt-get install python-pyaudio python3-pyaudio   \n"
   ]
  },
  {
   "cell_type": "code",
   "execution_count": null,
   "metadata": {},
   "outputs": [],
   "source": [
    "!pip3 install telebot"
   ]
  },
  {
   "cell_type": "code",
   "execution_count": null,
   "metadata": {},
   "outputs": [],
   "source": [
    "import telebot"
   ]
  },
  {
   "cell_type": "code",
   "execution_count": null,
   "metadata": {},
   "outputs": [],
   "source": [
    "import speech_recognition as sr\n",
    "\n",
    "def ouvir_microfone():\n",
    "    microfone = sr.Recognizer() #habilita microfone\n",
    "    with sr.Microphone() as source:\n",
    "        microfone.adjust_for_ambient_noise(source) #minimiza ruidos\n",
    "        print('Estou pronto para ouvir!')\n",
    "        \n",
    "        audio = microfone.listen(source)\n",
    "        \n",
    "    try:\n",
    "        frase = microfone.recognize_google(audio, language='pt-BR') #reconhece o audio em pt Br\n",
    "        print('Voce disse' + frase)  #imprime o audio\n",
    "    \n",
    "    except sr.UnkownValueError:\n",
    "        print('Nao entendi')\n",
    "    \n",
    "    return frase"
   ]
  },
  {
   "cell_type": "code",
   "execution_count": null,
   "metadata": {},
   "outputs": [],
   "source": [
    "ouvir_microfone()"
   ]
  },
  {
   "cell_type": "code",
   "execution_count": null,
   "metadata": {},
   "outputs": [],
   "source": [
    "#https://medium.com/brasil-ai/reconhecimento-voz-python-35a5023767ca"
   ]
  },
  {
   "cell_type": "markdown",
   "metadata": {},
   "source": [
    "## Dialogo: Perguntas e Respostas em escrita"
   ]
  },
  {
   "cell_type": "code",
   "execution_count": null,
   "metadata": {},
   "outputs": [],
   "source": [
    "from chatterbot.trainers import ListTrainer\n",
    "from chatterbot import ChatBot\n",
    "import speech_recognition as st\n",
    "from gtts import gTTS\n",
    "from playsound import playsound"
   ]
  },
  {
   "cell_type": "code",
   "execution_count": null,
   "metadata": {},
   "outputs": [],
   "source": [
    "bot = ChatBot('Chatbot')"
   ]
  },
  {
   "cell_type": "code",
   "execution_count": null,
   "metadata": {},
   "outputs": [],
   "source": [
    "conversa = ['Oi', 'Ola', \n",
    "            'Tudo bem?', 'Tudo bem e vc?',\n",
    "            'Eu estou bem', 'Que bom',\n",
    "            'Qual o melhor sistema?', 'O melhor sistema eh o linux']\n",
    "\n",
    "trainer = ListTrainer(bot)\n",
    "trainer.train(conversa)\n",
    "\n",
    "while True:\n",
    "    msg = input('Humano: ')\n",
    "    resposta = bot.get_response(msg)\n",
    "    print('Bot: ', resposta)"
   ]
  },
  {
   "cell_type": "markdown",
   "metadata": {},
   "source": [
    "## Dialogo: Perguntas e Respostas em audio"
   ]
  },
  {
   "cell_type": "code",
   "execution_count": null,
   "metadata": {},
   "outputs": [],
   "source": [
    "from chatterbot.trainers import ListTrainer\n",
    "from chatterbot import ChatBot\n",
    "import speech_recognition as sr\n",
    "from gtts import gTTS\n",
    "from playsound import playsound\n",
    "\n",
    "def ouvir_microfone():\n",
    "    #Converte audio em texto\n",
    "    \n",
    "    microfone = sr.Recognizer() #habilita o microfone\n",
    "    with sr.Microphone() as source: \n",
    "        microfone.adjust_for_ambient_noise(source)#reduz ruido\n",
    "        print(\"Microfone...\")\n",
    "        audio = microfone.listen(source) #armazena o audio\n",
    "    try:\n",
    "        frase = microfone.recognize_google(audio, language='pt-BR') \n",
    "        #traduz o audio em texto\n",
    "    except sr.UnkownValueError:\n",
    "        print('bot: Isso nao funcionou')\n",
    "    return frase\n",
    "        \n",
    "def cria_audio(audio):\n",
    "    #Converte o texto criado em audio\n",
    "    tts = gTTS(audio, lang='pt-BR')\n",
    "    tts.save('bot.mp3')\n",
    "    playsound('bot.mp3')\n",
    "    \n",
    "        \n",
    "bot = ChatBot(\"Chatbot\")       \n",
    "conversa = ['Oi', 'Ola', \n",
    "            'Tudo bem?', 'Tudo bem e vc?',\n",
    "            'Eu estou bem', 'Que bom',\n",
    "            'Qual o melhor sistema?', 'O melhor sistema eh o linux']\n",
    "\n",
    "trainer = ListTrainer(bot)\n",
    "trainer.train(conversa)\n",
    "\n",
    "while True:\n",
    "    msg = ouvir_microfone()\n",
    "    resposta = bot.get_response(msg)\n",
    "    cria_audio(str(resposta))\n",
    "    print('Bot: ', resposta)\n",
    "    "
   ]
  },
  {
   "cell_type": "code",
   "execution_count": null,
   "metadata": {},
   "outputs": [],
   "source": [
    "!pip3 install flask"
   ]
  },
  {
   "cell_type": "code",
   "execution_count": null,
   "metadata": {},
   "outputs": [],
   "source": [
    "!pip3 install python-telegram-bot"
   ]
  },
  {
   "cell_type": "code",
   "execution_count": null,
   "metadata": {},
   "outputs": [],
   "source": [
    "!pip3 install requests"
   ]
  },
  {
   "cell_type": "code",
   "execution_count": 5,
   "metadata": {},
   "outputs": [],
   "source": [
    "bot_token = \"1179647142:AAGkESh9A_8RPCjujbSrUOLz08FA02XIJlg\"\n",
    "bot_user_name = \"fraseszoeirabot\"\n",
    "#URL = \"the heroku app link that we will create later\""
   ]
  },
  {
   "cell_type": "code",
   "execution_count": 6,
   "metadata": {},
   "outputs": [],
   "source": [
    "# import everything\n",
    "from flask import Flask, request\n",
    "import telegram\n",
    "#from telebot.credentials import bot_token, bot_user_name,URL"
   ]
  },
  {
   "cell_type": "code",
   "execution_count": 8,
   "metadata": {},
   "outputs": [],
   "source": [
    "global bot\n",
    "global TOKEN\n",
    "TOKEN = bot_token\n",
    "bot = telegram.Bot(token=TOKEN)\n",
    "\n",
    "# start the flask app\n",
    "app = Flask(__name__)"
   ]
  },
  {
   "cell_type": "code",
   "execution_count": null,
   "metadata": {},
   "outputs": [],
   "source": []
  },
  {
   "cell_type": "code",
   "execution_count": null,
   "metadata": {},
   "outputs": [],
   "source": [
    "!pip3 install telegram"
   ]
  },
  {
   "cell_type": "code",
   "execution_count": null,
   "metadata": {},
   "outputs": [],
   "source": [
    "!pip3 install -U python-dotenv"
   ]
  },
  {
   "cell_type": "code",
   "execution_count": null,
   "metadata": {},
   "outputs": [],
   "source": [
    "!pip3 install python-telegram-bot"
   ]
  },
  {
   "cell_type": "code",
   "execution_count": null,
   "metadata": {},
   "outputs": [],
   "source": [
    "update.message.from.id"
   ]
  },
  {
   "cell_type": "code",
   "execution_count": null,
   "metadata": {},
   "outputs": [],
   "source": []
  }
 ],
 "metadata": {
  "kernelspec": {
   "display_name": "Python 3",
   "language": "python",
   "name": "python3"
  },
  "language_info": {
   "codemirror_mode": {
    "name": "ipython",
    "version": 3
   },
   "file_extension": ".py",
   "mimetype": "text/x-python",
   "name": "python",
   "nbconvert_exporter": "python",
   "pygments_lexer": "ipython3",
   "version": "3.6.9"
  }
 },
 "nbformat": 4,
 "nbformat_minor": 4
}
